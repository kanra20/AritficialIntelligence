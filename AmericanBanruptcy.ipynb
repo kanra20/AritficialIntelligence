{
  "nbformat": 4,
  "nbformat_minor": 0,
  "metadata": {
    "colab": {
      "provenance": [],
      "include_colab_link": true
    },
    "kernelspec": {
      "name": "python3",
      "display_name": "Python 3"
    },
    "language_info": {
      "name": "python"
    }
  },
  "cells": [
    {
      "cell_type": "markdown",
      "metadata": {
        "id": "view-in-github",
        "colab_type": "text"
      },
      "source": [
        "<a href=\"https://colab.research.google.com/github/kanra20/AritficialIntelligence/blob/main/AmericanBanruptcy.ipynb\" target=\"_parent\"><img src=\"https://colab.research.google.com/assets/colab-badge.svg\" alt=\"Open In Colab\"/></a>"
      ]
    },
    {
      "cell_type": "markdown",
      "source": [
        "# Preliminary Data Preprocessing and EDA"
      ],
      "metadata": {
        "id": "8lCsJuIUCyAE"
      }
    },
    {
      "cell_type": "markdown",
      "source": [
        "## Preliminary Data Preprocessing"
      ],
      "metadata": {
        "id": "0X7li9RkFk8o"
      }
    },
    {
      "cell_type": "code",
      "source": [
        "import pandas as pd\n",
        "\n",
        "url = 'https://raw.githubusercontent.com/kanra20/AritficialIntelligence/main/american_bankruptcy.csv'\n",
        "data = pd.read_csv(url)\n"
      ],
      "metadata": {
        "id": "1ELs2aeqmiTt"
      },
      "execution_count": 1,
      "outputs": []
    },
    {
      "cell_type": "code",
      "source": [
        "data.head()"
      ],
      "metadata": {
        "colab": {
          "base_uri": "https://localhost:8080/",
          "height": 236
        },
        "id": "ko-Dv6vwm1-U",
        "outputId": "c5ccabc2-c86e-4d99-f0dc-3025335d660b"
      },
      "execution_count": 2,
      "outputs": [
        {
          "output_type": "execute_result",
          "data": {
            "text/plain": [
              "  company_name status_label  year       X1       X2      X3      X4       X5  \\\n",
              "0          C_1        alive  1999  511.267  833.107  18.373  89.031  336.018   \n",
              "1          C_1        alive  2000  485.856  713.811  18.577  64.367  320.590   \n",
              "2          C_1        alive  2001  436.656  526.477  22.496  27.207  286.588   \n",
              "3          C_1        alive  2002  396.412  496.747  27.172  30.745  259.954   \n",
              "4          C_1        alive  2003  432.204  523.302  26.680  47.491  247.245   \n",
              "\n",
              "       X6       X7  ...        X9      X10      X11     X12      X13      X14  \\\n",
              "0  35.163  128.348  ...  1024.333  740.998  180.447  70.658  191.226  163.816   \n",
              "1  18.531  115.187  ...   874.255  701.854  179.987  45.790  160.444  125.392   \n",
              "2 -58.939   77.528  ...   638.721  710.199  217.699   4.711  112.244  150.464   \n",
              "3 -12.410   66.322  ...   606.337  686.621  164.658   3.573  109.590  203.575   \n",
              "4   3.504  104.661  ...   651.958  709.292  248.666  20.811  128.656  131.261   \n",
              "\n",
              "       X15       X16      X17      X18  \n",
              "0  201.026  1024.333  401.483  935.302  \n",
              "1  204.065   874.255  361.642  809.888  \n",
              "2  139.603   638.721  399.964  611.514  \n",
              "3  124.106   606.337  391.633  575.592  \n",
              "4  131.884   651.958  407.608  604.467  \n",
              "\n",
              "[5 rows x 21 columns]"
            ],
            "text/html": [
              "\n",
              "  <div id=\"df-7f270ba5-25ab-4e65-aba2-63508f6c0004\" class=\"colab-df-container\">\n",
              "    <div>\n",
              "<style scoped>\n",
              "    .dataframe tbody tr th:only-of-type {\n",
              "        vertical-align: middle;\n",
              "    }\n",
              "\n",
              "    .dataframe tbody tr th {\n",
              "        vertical-align: top;\n",
              "    }\n",
              "\n",
              "    .dataframe thead th {\n",
              "        text-align: right;\n",
              "    }\n",
              "</style>\n",
              "<table border=\"1\" class=\"dataframe\">\n",
              "  <thead>\n",
              "    <tr style=\"text-align: right;\">\n",
              "      <th></th>\n",
              "      <th>company_name</th>\n",
              "      <th>status_label</th>\n",
              "      <th>year</th>\n",
              "      <th>X1</th>\n",
              "      <th>X2</th>\n",
              "      <th>X3</th>\n",
              "      <th>X4</th>\n",
              "      <th>X5</th>\n",
              "      <th>X6</th>\n",
              "      <th>X7</th>\n",
              "      <th>...</th>\n",
              "      <th>X9</th>\n",
              "      <th>X10</th>\n",
              "      <th>X11</th>\n",
              "      <th>X12</th>\n",
              "      <th>X13</th>\n",
              "      <th>X14</th>\n",
              "      <th>X15</th>\n",
              "      <th>X16</th>\n",
              "      <th>X17</th>\n",
              "      <th>X18</th>\n",
              "    </tr>\n",
              "  </thead>\n",
              "  <tbody>\n",
              "    <tr>\n",
              "      <th>0</th>\n",
              "      <td>C_1</td>\n",
              "      <td>alive</td>\n",
              "      <td>1999</td>\n",
              "      <td>511.267</td>\n",
              "      <td>833.107</td>\n",
              "      <td>18.373</td>\n",
              "      <td>89.031</td>\n",
              "      <td>336.018</td>\n",
              "      <td>35.163</td>\n",
              "      <td>128.348</td>\n",
              "      <td>...</td>\n",
              "      <td>1024.333</td>\n",
              "      <td>740.998</td>\n",
              "      <td>180.447</td>\n",
              "      <td>70.658</td>\n",
              "      <td>191.226</td>\n",
              "      <td>163.816</td>\n",
              "      <td>201.026</td>\n",
              "      <td>1024.333</td>\n",
              "      <td>401.483</td>\n",
              "      <td>935.302</td>\n",
              "    </tr>\n",
              "    <tr>\n",
              "      <th>1</th>\n",
              "      <td>C_1</td>\n",
              "      <td>alive</td>\n",
              "      <td>2000</td>\n",
              "      <td>485.856</td>\n",
              "      <td>713.811</td>\n",
              "      <td>18.577</td>\n",
              "      <td>64.367</td>\n",
              "      <td>320.590</td>\n",
              "      <td>18.531</td>\n",
              "      <td>115.187</td>\n",
              "      <td>...</td>\n",
              "      <td>874.255</td>\n",
              "      <td>701.854</td>\n",
              "      <td>179.987</td>\n",
              "      <td>45.790</td>\n",
              "      <td>160.444</td>\n",
              "      <td>125.392</td>\n",
              "      <td>204.065</td>\n",
              "      <td>874.255</td>\n",
              "      <td>361.642</td>\n",
              "      <td>809.888</td>\n",
              "    </tr>\n",
              "    <tr>\n",
              "      <th>2</th>\n",
              "      <td>C_1</td>\n",
              "      <td>alive</td>\n",
              "      <td>2001</td>\n",
              "      <td>436.656</td>\n",
              "      <td>526.477</td>\n",
              "      <td>22.496</td>\n",
              "      <td>27.207</td>\n",
              "      <td>286.588</td>\n",
              "      <td>-58.939</td>\n",
              "      <td>77.528</td>\n",
              "      <td>...</td>\n",
              "      <td>638.721</td>\n",
              "      <td>710.199</td>\n",
              "      <td>217.699</td>\n",
              "      <td>4.711</td>\n",
              "      <td>112.244</td>\n",
              "      <td>150.464</td>\n",
              "      <td>139.603</td>\n",
              "      <td>638.721</td>\n",
              "      <td>399.964</td>\n",
              "      <td>611.514</td>\n",
              "    </tr>\n",
              "    <tr>\n",
              "      <th>3</th>\n",
              "      <td>C_1</td>\n",
              "      <td>alive</td>\n",
              "      <td>2002</td>\n",
              "      <td>396.412</td>\n",
              "      <td>496.747</td>\n",
              "      <td>27.172</td>\n",
              "      <td>30.745</td>\n",
              "      <td>259.954</td>\n",
              "      <td>-12.410</td>\n",
              "      <td>66.322</td>\n",
              "      <td>...</td>\n",
              "      <td>606.337</td>\n",
              "      <td>686.621</td>\n",
              "      <td>164.658</td>\n",
              "      <td>3.573</td>\n",
              "      <td>109.590</td>\n",
              "      <td>203.575</td>\n",
              "      <td>124.106</td>\n",
              "      <td>606.337</td>\n",
              "      <td>391.633</td>\n",
              "      <td>575.592</td>\n",
              "    </tr>\n",
              "    <tr>\n",
              "      <th>4</th>\n",
              "      <td>C_1</td>\n",
              "      <td>alive</td>\n",
              "      <td>2003</td>\n",
              "      <td>432.204</td>\n",
              "      <td>523.302</td>\n",
              "      <td>26.680</td>\n",
              "      <td>47.491</td>\n",
              "      <td>247.245</td>\n",
              "      <td>3.504</td>\n",
              "      <td>104.661</td>\n",
              "      <td>...</td>\n",
              "      <td>651.958</td>\n",
              "      <td>709.292</td>\n",
              "      <td>248.666</td>\n",
              "      <td>20.811</td>\n",
              "      <td>128.656</td>\n",
              "      <td>131.261</td>\n",
              "      <td>131.884</td>\n",
              "      <td>651.958</td>\n",
              "      <td>407.608</td>\n",
              "      <td>604.467</td>\n",
              "    </tr>\n",
              "  </tbody>\n",
              "</table>\n",
              "<p>5 rows × 21 columns</p>\n",
              "</div>\n",
              "    <div class=\"colab-df-buttons\">\n",
              "\n",
              "  <div class=\"colab-df-container\">\n",
              "    <button class=\"colab-df-convert\" onclick=\"convertToInteractive('df-7f270ba5-25ab-4e65-aba2-63508f6c0004')\"\n",
              "            title=\"Convert this dataframe to an interactive table.\"\n",
              "            style=\"display:none;\">\n",
              "\n",
              "  <svg xmlns=\"http://www.w3.org/2000/svg\" height=\"24px\" viewBox=\"0 -960 960 960\">\n",
              "    <path d=\"M120-120v-720h720v720H120Zm60-500h600v-160H180v160Zm220 220h160v-160H400v160Zm0 220h160v-160H400v160ZM180-400h160v-160H180v160Zm440 0h160v-160H620v160ZM180-180h160v-160H180v160Zm440 0h160v-160H620v160Z\"/>\n",
              "  </svg>\n",
              "    </button>\n",
              "\n",
              "  <style>\n",
              "    .colab-df-container {\n",
              "      display:flex;\n",
              "      gap: 12px;\n",
              "    }\n",
              "\n",
              "    .colab-df-convert {\n",
              "      background-color: #E8F0FE;\n",
              "      border: none;\n",
              "      border-radius: 50%;\n",
              "      cursor: pointer;\n",
              "      display: none;\n",
              "      fill: #1967D2;\n",
              "      height: 32px;\n",
              "      padding: 0 0 0 0;\n",
              "      width: 32px;\n",
              "    }\n",
              "\n",
              "    .colab-df-convert:hover {\n",
              "      background-color: #E2EBFA;\n",
              "      box-shadow: 0px 1px 2px rgba(60, 64, 67, 0.3), 0px 1px 3px 1px rgba(60, 64, 67, 0.15);\n",
              "      fill: #174EA6;\n",
              "    }\n",
              "\n",
              "    .colab-df-buttons div {\n",
              "      margin-bottom: 4px;\n",
              "    }\n",
              "\n",
              "    [theme=dark] .colab-df-convert {\n",
              "      background-color: #3B4455;\n",
              "      fill: #D2E3FC;\n",
              "    }\n",
              "\n",
              "    [theme=dark] .colab-df-convert:hover {\n",
              "      background-color: #434B5C;\n",
              "      box-shadow: 0px 1px 3px 1px rgba(0, 0, 0, 0.15);\n",
              "      filter: drop-shadow(0px 1px 2px rgba(0, 0, 0, 0.3));\n",
              "      fill: #FFFFFF;\n",
              "    }\n",
              "  </style>\n",
              "\n",
              "    <script>\n",
              "      const buttonEl =\n",
              "        document.querySelector('#df-7f270ba5-25ab-4e65-aba2-63508f6c0004 button.colab-df-convert');\n",
              "      buttonEl.style.display =\n",
              "        google.colab.kernel.accessAllowed ? 'block' : 'none';\n",
              "\n",
              "      async function convertToInteractive(key) {\n",
              "        const element = document.querySelector('#df-7f270ba5-25ab-4e65-aba2-63508f6c0004');\n",
              "        const dataTable =\n",
              "          await google.colab.kernel.invokeFunction('convertToInteractive',\n",
              "                                                    [key], {});\n",
              "        if (!dataTable) return;\n",
              "\n",
              "        const docLinkHtml = 'Like what you see? Visit the ' +\n",
              "          '<a target=\"_blank\" href=https://colab.research.google.com/notebooks/data_table.ipynb>data table notebook</a>'\n",
              "          + ' to learn more about interactive tables.';\n",
              "        element.innerHTML = '';\n",
              "        dataTable['output_type'] = 'display_data';\n",
              "        await google.colab.output.renderOutput(dataTable, element);\n",
              "        const docLink = document.createElement('div');\n",
              "        docLink.innerHTML = docLinkHtml;\n",
              "        element.appendChild(docLink);\n",
              "      }\n",
              "    </script>\n",
              "  </div>\n",
              "\n",
              "\n",
              "<div id=\"df-bbba95ce-e991-46fb-9a16-72aa7de795fb\">\n",
              "  <button class=\"colab-df-quickchart\" onclick=\"quickchart('df-bbba95ce-e991-46fb-9a16-72aa7de795fb')\"\n",
              "            title=\"Suggest charts\"\n",
              "            style=\"display:none;\">\n",
              "\n",
              "<svg xmlns=\"http://www.w3.org/2000/svg\" height=\"24px\"viewBox=\"0 0 24 24\"\n",
              "     width=\"24px\">\n",
              "    <g>\n",
              "        <path d=\"M19 3H5c-1.1 0-2 .9-2 2v14c0 1.1.9 2 2 2h14c1.1 0 2-.9 2-2V5c0-1.1-.9-2-2-2zM9 17H7v-7h2v7zm4 0h-2V7h2v10zm4 0h-2v-4h2v4z\"/>\n",
              "    </g>\n",
              "</svg>\n",
              "  </button>\n",
              "\n",
              "<style>\n",
              "  .colab-df-quickchart {\n",
              "      --bg-color: #E8F0FE;\n",
              "      --fill-color: #1967D2;\n",
              "      --hover-bg-color: #E2EBFA;\n",
              "      --hover-fill-color: #174EA6;\n",
              "      --disabled-fill-color: #AAA;\n",
              "      --disabled-bg-color: #DDD;\n",
              "  }\n",
              "\n",
              "  [theme=dark] .colab-df-quickchart {\n",
              "      --bg-color: #3B4455;\n",
              "      --fill-color: #D2E3FC;\n",
              "      --hover-bg-color: #434B5C;\n",
              "      --hover-fill-color: #FFFFFF;\n",
              "      --disabled-bg-color: #3B4455;\n",
              "      --disabled-fill-color: #666;\n",
              "  }\n",
              "\n",
              "  .colab-df-quickchart {\n",
              "    background-color: var(--bg-color);\n",
              "    border: none;\n",
              "    border-radius: 50%;\n",
              "    cursor: pointer;\n",
              "    display: none;\n",
              "    fill: var(--fill-color);\n",
              "    height: 32px;\n",
              "    padding: 0;\n",
              "    width: 32px;\n",
              "  }\n",
              "\n",
              "  .colab-df-quickchart:hover {\n",
              "    background-color: var(--hover-bg-color);\n",
              "    box-shadow: 0 1px 2px rgba(60, 64, 67, 0.3), 0 1px 3px 1px rgba(60, 64, 67, 0.15);\n",
              "    fill: var(--button-hover-fill-color);\n",
              "  }\n",
              "\n",
              "  .colab-df-quickchart-complete:disabled,\n",
              "  .colab-df-quickchart-complete:disabled:hover {\n",
              "    background-color: var(--disabled-bg-color);\n",
              "    fill: var(--disabled-fill-color);\n",
              "    box-shadow: none;\n",
              "  }\n",
              "\n",
              "  .colab-df-spinner {\n",
              "    border: 2px solid var(--fill-color);\n",
              "    border-color: transparent;\n",
              "    border-bottom-color: var(--fill-color);\n",
              "    animation:\n",
              "      spin 1s steps(1) infinite;\n",
              "  }\n",
              "\n",
              "  @keyframes spin {\n",
              "    0% {\n",
              "      border-color: transparent;\n",
              "      border-bottom-color: var(--fill-color);\n",
              "      border-left-color: var(--fill-color);\n",
              "    }\n",
              "    20% {\n",
              "      border-color: transparent;\n",
              "      border-left-color: var(--fill-color);\n",
              "      border-top-color: var(--fill-color);\n",
              "    }\n",
              "    30% {\n",
              "      border-color: transparent;\n",
              "      border-left-color: var(--fill-color);\n",
              "      border-top-color: var(--fill-color);\n",
              "      border-right-color: var(--fill-color);\n",
              "    }\n",
              "    40% {\n",
              "      border-color: transparent;\n",
              "      border-right-color: var(--fill-color);\n",
              "      border-top-color: var(--fill-color);\n",
              "    }\n",
              "    60% {\n",
              "      border-color: transparent;\n",
              "      border-right-color: var(--fill-color);\n",
              "    }\n",
              "    80% {\n",
              "      border-color: transparent;\n",
              "      border-right-color: var(--fill-color);\n",
              "      border-bottom-color: var(--fill-color);\n",
              "    }\n",
              "    90% {\n",
              "      border-color: transparent;\n",
              "      border-bottom-color: var(--fill-color);\n",
              "    }\n",
              "  }\n",
              "</style>\n",
              "\n",
              "  <script>\n",
              "    async function quickchart(key) {\n",
              "      const quickchartButtonEl =\n",
              "        document.querySelector('#' + key + ' button');\n",
              "      quickchartButtonEl.disabled = true;  // To prevent multiple clicks.\n",
              "      quickchartButtonEl.classList.add('colab-df-spinner');\n",
              "      try {\n",
              "        const charts = await google.colab.kernel.invokeFunction(\n",
              "            'suggestCharts', [key], {});\n",
              "      } catch (error) {\n",
              "        console.error('Error during call to suggestCharts:', error);\n",
              "      }\n",
              "      quickchartButtonEl.classList.remove('colab-df-spinner');\n",
              "      quickchartButtonEl.classList.add('colab-df-quickchart-complete');\n",
              "    }\n",
              "    (() => {\n",
              "      let quickchartButtonEl =\n",
              "        document.querySelector('#df-bbba95ce-e991-46fb-9a16-72aa7de795fb button');\n",
              "      quickchartButtonEl.style.display =\n",
              "        google.colab.kernel.accessAllowed ? 'block' : 'none';\n",
              "    })();\n",
              "  </script>\n",
              "</div>\n",
              "\n",
              "    </div>\n",
              "  </div>\n"
            ],
            "application/vnd.google.colaboratory.intrinsic+json": {
              "type": "dataframe",
              "variable_name": "data"
            }
          },
          "metadata": {},
          "execution_count": 2
        }
      ]
    },
    {
      "cell_type": "code",
      "execution_count": 3,
      "metadata": {
        "colab": {
          "base_uri": "https://localhost:8080/"
        },
        "id": "Vx7uc-4kCmHx",
        "outputId": "71830e0d-696b-43ba-e330-2c21a6975d53"
      },
      "outputs": [
        {
          "output_type": "stream",
          "name": "stdout",
          "text": [
            "   status_label  year       X1       X2      X3      X4       X5      X6  \\\n",
            "0             0  1999  511.267  833.107  18.373  89.031  336.018  35.163   \n",
            "1             0  2000  485.856  713.811  18.577  64.367  320.590  18.531   \n",
            "2             0  2001  436.656  526.477  22.496  27.207  286.588 -58.939   \n",
            "3             0  2002  396.412  496.747  27.172  30.745  259.954 -12.410   \n",
            "4             0  2003  432.204  523.302  26.680  47.491  247.245   3.504   \n",
            "\n",
            "        X7        X8        X9      X10      X11     X12      X13      X14  \\\n",
            "0  128.348  372.7519  1024.333  740.998  180.447  70.658  191.226  163.816   \n",
            "1  115.187  377.1180   874.255  701.854  179.987  45.790  160.444  125.392   \n",
            "2   77.528  364.5928   638.721  710.199  217.699   4.711  112.244  150.464   \n",
            "3   66.322  143.3295   606.337  686.621  164.658   3.573  109.590  203.575   \n",
            "4  104.661  308.9071   651.958  709.292  248.666  20.811  128.656  131.261   \n",
            "\n",
            "       X15       X16      X17      X18  \n",
            "0  201.026  1024.333  401.483  935.302  \n",
            "1  204.065   874.255  361.642  809.888  \n",
            "2  139.603   638.721  399.964  611.514  \n",
            "3  124.106   606.337  391.633  575.592  \n",
            "4  131.884   651.958  407.608  604.467  \n"
          ]
        }
      ],
      "source": [
        "# Remove 'company_name' column\n",
        "data.drop('company_name', axis=1, inplace=True)\n",
        "\n",
        "# Convert 'status_label' from string to numerical format (0 for 'alive', 1 for 'bankruptcy')\n",
        "data['status_label'] = (data['status_label'] != 'alive').astype(int)\n",
        "\n",
        "# Save the cleaned data if you need to use it later\n",
        "data.to_csv('cleaned_dataset.csv', index=False)\n",
        "\n",
        "# Display the first few rows to confirm changes\n",
        "print(data.head())"
      ]
    },
    {
      "cell_type": "markdown",
      "source": [
        "## EDA"
      ],
      "metadata": {
        "id": "8Xk20O9QFw6R"
      }
    },
    {
      "cell_type": "markdown",
      "source": [
        "### Overview of Data Distribution"
      ],
      "metadata": {
        "id": "BcacIShRGBdo"
      }
    },
    {
      "cell_type": "code",
      "source": [
        "# Descriptive statistics for all numeric columns\n",
        "print(data.describe())\n",
        "\n",
        "# Descriptive statistics for the categorical 'status_label' column\n",
        "print(data['status_label'].value_counts())\n"
      ],
      "metadata": {
        "colab": {
          "base_uri": "https://localhost:8080/"
        },
        "id": "uS7ir2C8FXPS",
        "outputId": "3c71787d-2b84-4619-96f8-75b5d04b0788"
      },
      "execution_count": 4,
      "outputs": [
        {
          "output_type": "stream",
          "name": "stdout",
          "text": [
            "       status_label          year             X1             X2            X3  \\\n",
            "count  78682.000000  78682.000000   78682.000000   78682.000000  78682.000000   \n",
            "mean       0.066343   2007.506317     880.362485    1594.529029    121.234256   \n",
            "std        0.248882      5.742768    3928.564794    8930.484664    652.376804   \n",
            "min        0.000000   1999.000000      -7.760000    -366.645000      0.000000   \n",
            "25%        0.000000   2002.000000      18.924000      17.038250      1.192000   \n",
            "50%        0.000000   2007.000000     100.449500     103.661000      7.929500   \n",
            "75%        0.000000   2012.000000     431.526750     634.548000     47.971750   \n",
            "max        1.000000   2018.000000  169662.000000  374623.000000  28430.000000   \n",
            "\n",
            "                 X4            X5             X6            X7            X8  \\\n",
            "count  78682.000000  78682.000000   78682.000000  78682.000000  7.868200e+04   \n",
            "mean     376.759424    201.605717     129.382453    286.832743  3.414355e+03   \n",
            "std     2012.023142   1060.766096    1265.532022   1335.978571  1.841410e+04   \n",
            "min   -21913.000000      0.000000  -98696.000000     -0.006000  1.000000e-04   \n",
            "25%       -0.811000      0.000000      -7.415750      3.281250  3.498000e+01   \n",
            "50%       15.034500      7.023000       1.616000     22.820000  2.275118e+02   \n",
            "75%      139.655250     74.747250      40.144250    131.580500  1.244890e+03   \n",
            "max    81730.000000  62567.000000  104821.000000  65812.000000  1.073391e+06   \n",
            "\n",
            "                  X9            X10            X11           X12  \\\n",
            "count   78682.000000   78682.000000   78682.000000  78682.000000   \n",
            "mean     2364.019706    2867.110620     722.483710    255.525035   \n",
            "std     11950.068842   12917.944421    3242.170946   1494.643534   \n",
            "min     -1964.999000       0.001000      -0.023000 -25913.000000   \n",
            "25%        27.548500      37.363500       0.000000     -2.787000   \n",
            "50%       186.598500     213.203500       7.593500      6.518000   \n",
            "75%      1046.402500    1171.364750     248.760750     87.599000   \n",
            "max    511729.000000  531864.000000  166250.000000  71230.000000   \n",
            "\n",
            "                 X13            X14            X15            X16  \\\n",
            "count   78682.000000   78682.000000   78682.000000   78682.000000   \n",
            "mean      769.490783     610.072255     532.467069    2364.019706   \n",
            "std      3774.703114    2938.387443    6369.159440   11950.068842   \n",
            "min    -21536.000000       0.001000 -102362.000000   -1964.999000   \n",
            "25%         8.521250       8.889250     -68.282750      27.548500   \n",
            "50%        63.581500      43.333000      -1.131000     186.598500   \n",
            "75%       344.074250     222.817000     146.070000    1046.402500   \n",
            "max    137106.000000  116866.000000  402089.000000  511729.000000   \n",
            "\n",
            "                 X17            X18  \n",
            "count   78682.000000   78682.000000  \n",
            "mean     1773.563963    1987.260307  \n",
            "std      8053.684902   10419.629038  \n",
            "min         0.001000    -317.197000  \n",
            "25%        13.486000      32.872500  \n",
            "50%        81.988000     168.912000  \n",
            "75%       629.975000     875.522250  \n",
            "max    337980.000000  481580.000000  \n",
            "status_label\n",
            "0    73462\n",
            "1     5220\n",
            "Name: count, dtype: int64\n"
          ]
        }
      ]
    },
    {
      "cell_type": "markdown",
      "source": [
        "### Distribution of Financial Indicators"
      ],
      "metadata": {
        "id": "f0mHvkN0GEZI"
      }
    },
    {
      "cell_type": "code",
      "source": [
        "import seaborn as sns\n",
        "import matplotlib.pyplot as plt\n",
        "import numpy as np\n",
        "\n",
        "metrics = ['X1', 'X2', 'X3']\n",
        "\n",
        "# Applying log transformation to each metric and plot their distributions\n",
        "for metric in metrics:\n",
        "    # Check if any values are less than or equal to 0, as log transformation requires positive values\n",
        "    if any(data[metric] <= 0):\n",
        "        # Adding a small constant to adjust values\n",
        "        data['log_' + metric] = np.log(data[metric] + 1 - data[metric].min())\n",
        "    else:\n",
        "        data['log_' + metric] = np.log(data[metric])\n",
        "\n",
        "    plt.figure(figsize=(12, 6))\n",
        "    sns.histplot(data['log_' + metric], kde=True)\n",
        "    plt.title(f'Distribution of log-transformed {metric}')\n",
        "    plt.xlabel(f'log({metric})')\n",
        "    plt.ylabel('Frequency')\n",
        "    plt.show()"
      ],
      "metadata": {
        "colab": {
          "base_uri": "https://localhost:8080/",
          "height": 1000
        },
        "id": "yzdKHN6JGRFq",
        "outputId": "b1cd2a30-8740-4cfd-90ce-0cc5d8a18c35"
      },
      "execution_count": null,
      "outputs": [
        {
          "output_type": "display_data",
          "data": {
            "text/plain": [
              "<Figure size 1200x600 with 1 Axes>"
            ],
            "image/png": "[encoded data removed]"
          },
          "metadata": {}
        },
        {
          "output_type": "display_data",
          "data": {
            "text/plain": [
              "<Figure size 1200x600 with 1 Axes>"
            ],
            "image/png": "[encoded data removed]"
          },
          "metadata": {}
        }
      ]
    },
    {
      "cell_type": "markdown",
      "source": [
        "### Correlation Analysis"
      ],
      "metadata": {
        "id": "S8nQlpRkGGb2"
      }
    },
    {
      "cell_type": "code",
      "source": [
        "# Correlation matrix\n",
        "correlation_matrix = data.corr()\n",
        "plt.figure(figsize=(12, 8))\n",
        "sns.heatmap(correlation_matrix, annot=True, cmap='coolwarm')\n",
        "plt.title('Correlation Matrix')\n",
        "plt.show()"
      ],
      "metadata": {
        "id": "Z_EOkZ1TGRlc"
      },
      "execution_count": null,
      "outputs": []
    },
    {
      "cell_type": "markdown",
      "source": [
        "### Box Plot Analysis"
      ],
      "metadata": {
        "id": "5VMCZeuoGIza"
      }
    },
    {
      "cell_type": "code",
      "source": [
        "# Box plots for financial variables by bankruptcy status\n",
        "for column in data.columns[2:]:  # Adjust column indexing as needed\n",
        "    plt.figure(figsize=(10, 5))\n",
        "    sns.boxplot(x='status_label', y=column, data=data)\n",
        "    plt.title(f'Box Plot of {column} by Bankruptcy Status')\n",
        "    plt.xlabel('Bankruptcy Status (0: Non-Bankrupt, 1: Bankrupt)')\n",
        "    plt.ylabel(column)\n",
        "    plt.show()"
      ],
      "metadata": {
        "id": "8x7vBvXWGR4r"
      },
      "execution_count": null,
      "outputs": []
    },
    {
      "cell_type": "markdown",
      "source": [
        "###Trend Analysis Over Years"
      ],
      "metadata": {
        "id": "IVEw2UhuGMdC"
      }
    },
    {
      "cell_type": "code",
      "source": [
        "metrics_to_plot = ['X1', 'X2', 'X3', 'X4', 'X5', 'X6', 'X7', 'X8', 'X9', 'X10', 'X11', 'X12', 'X13', 'X14', 'X15', 'X16', 'X17', 'X18']\n",
        "status_labels = {0: \"Non-Bankrupt\", 1: \"Bankrupt\"}\n",
        "data['Bankruptcy Status'] = data['status_label'].map(status_labels)\n",
        "# Plotting the trends over years for each financial metric\n",
        "for metric in metrics_to_plot:\n",
        "    plt.figure(figsize=(12, 6))\n",
        "    sns.lineplot(x='year', y=metric, hue='Bankruptcy Status', data=data, markers=True, style='Bankruptcy Status', dashes=False, palette=['blue', 'orange'])\n",
        "    plt.title(f'Trend of {metric} Over Years')\n",
        "    plt.xlabel('Year')\n",
        "    plt.ylabel(metric)\n",
        "    plt.legend(title='Bankruptcy Status')\n",
        "    plt.show()"
      ],
      "metadata": {
        "id": "fkznbjEcGL5z"
      },
      "execution_count": null,
      "outputs": []
    },
    {
      "cell_type": "markdown",
      "source": [
        "# Model Training"
      ],
      "metadata": {
        "id": "d6xDS9TwIli-"
      }
    },
    {
      "cell_type": "markdown",
      "source": [
        "## Data Preprocessing"
      ],
      "metadata": {
        "id": "kxwIIdPSMDp5"
      }
    },
    {
      "cell_type": "code",
      "source": [
        "import pandas as pd\n",
        "from sklearn.model_selection import train_test_split\n",
        "from sklearn.preprocessing import StandardScaler\n",
        "\n",
        "# Load the cleaned dataset\n",
        "data = pd.read_csv('cleaned_dataset.csv')\n",
        "\n",
        "# Prepare feature matrix X and target vector y\n",
        "X = data.drop('status_label', axis=1)\n",
        "y = data['status_label']\n",
        "\n",
        "# Split data into training and test sets\n",
        "X_train, X_test, y_train, y_test = train_test_split(X, y, test_size=0.2, random_state=42)\n",
        "\n",
        "# Feature scaling\n",
        "scaler = StandardScaler()\n",
        "X_train_scaled = scaler.fit_transform(X_train)\n",
        "X_test_scaled = scaler.transform(X_test)\n"
      ],
      "metadata": {
        "id": "IaRmhNTYMKIP"
      },
      "execution_count": null,
      "outputs": []
    },
    {
      "cell_type": "code",
      "source": [
        "X_train_scaled"
      ],
      "metadata": {
        "id": "4b-PNd3KqxUS"
      },
      "execution_count": null,
      "outputs": []
    },
    {
      "cell_type": "markdown",
      "source": [
        "## Machine Learning"
      ],
      "metadata": {
        "id": "DEdG7tn4N3RV"
      }
    },
    {
      "cell_type": "markdown",
      "source": [
        "### Random Forest"
      ],
      "metadata": {
        "id": "d9GX4jeDOWXu"
      }
    },
    {
      "cell_type": "code",
      "source": [
        "from sklearn.ensemble import RandomForestClassifier\n",
        "from sklearn.metrics import accuracy_score\n",
        "\n",
        "# Initialize the RandomForestClassifier\n",
        "random_forest = RandomForestClassifier(n_estimators=100, random_state=42)\n",
        "\n",
        "# Train the model\n",
        "random_forest.fit(X_train_scaled, y_train)\n",
        "\n",
        "# Make predictions\n",
        "y_pred_rf = random_forest.predict(X_test_scaled)\n",
        "\n",
        "# Calculate accuracy\n",
        "accuracy_rf = accuracy_score(y_test, y_pred_rf)\n",
        "print(f'Accuracy of Random Forest model: {accuracy_rf:.2f}')"
      ],
      "metadata": {
        "id": "7QzAlHFwN6ha"
      },
      "execution_count": null,
      "outputs": []
    },
    {
      "cell_type": "markdown",
      "source": [
        "### Decision tree"
      ],
      "metadata": {
        "id": "x-KwXLrzOhkW"
      }
    },
    {
      "cell_type": "code",
      "source": [
        "from sklearn.tree import DecisionTreeClassifier\n",
        "from sklearn.metrics import accuracy_score\n",
        "\n",
        "# Initialize the DecisionTreeClassifier\n",
        "decision_tree = DecisionTreeClassifier(random_state=42)\n",
        "\n",
        "# Train the model\n",
        "decision_tree.fit(X_train_scaled, y_train)\n",
        "\n",
        "# Make predictions\n",
        "y_pred_dt = decision_tree.predict(X_test_scaled)\n",
        "\n",
        "# Calculate accuracy\n",
        "accuracy_dt = accuracy_score(y_test, y_pred_dt)\n",
        "print(f'Accuracy of Decision Tree model: {accuracy_dt:.2f}')"
      ],
      "metadata": {
        "id": "oPMeoEWdOePo"
      },
      "execution_count": null,
      "outputs": []
    },
    {
      "cell_type": "markdown",
      "source": [
        "### K-nearest neighbors"
      ],
      "metadata": {
        "id": "rKkhFDDCPLp1"
      }
    },
    {
      "cell_type": "code",
      "source": [
        "from sklearn.neighbors import KNeighborsClassifier\n",
        "from sklearn.metrics import accuracy_score\n",
        "\n",
        "# Initialize the KNeighborsClassifier\n",
        "# You can adjust the number of neighbors depending on your specific dataset characteristics\n",
        "knn = KNeighborsClassifier(n_neighbors=5)\n",
        "\n",
        "# Train the model\n",
        "knn.fit(X_train_scaled, y_train)\n",
        "\n",
        "# Make predictions\n",
        "y_pred_knn = knn.predict(X_test_scaled)\n",
        "\n",
        "# Calculate accuracy\n",
        "accuracy_knn = accuracy_score(y_test, y_pred_knn)\n",
        "print(f'Accuracy of K-Nearest Neighbors model: {accuracy_knn:.2f}')"
      ],
      "metadata": {
        "id": "bhqOLfF3PTGn"
      },
      "execution_count": null,
      "outputs": []
    },
    {
      "cell_type": "markdown",
      "source": [
        "### SVM"
      ],
      "metadata": {
        "id": "KChYIrk0PW-x"
      }
    },
    {
      "cell_type": "code",
      "source": [
        "from sklearn.svm import SVC\n",
        "from sklearn.metrics import accuracy_score\n",
        "\n",
        "# Initialize the Support Vector Classifier\n",
        "svm = SVC(kernel='linear', random_state=42)  # You can try different kernels such as 'rbf'\n",
        "\n",
        "# Train the model\n",
        "svm.fit(X_train_scaled, y_train)\n",
        "\n",
        "# Make predictions\n",
        "y_pred_svm = svm.predict(X_test_scaled)\n",
        "\n",
        "# Calculate accuracy\n",
        "accuracy_svm = accuracy_score(y_test, y_pred_svm)\n",
        "print(f'Accuracy of Support Vector Machine model: {accuracy_svm:.2f}')\n"
      ],
      "metadata": {
        "id": "E4pknt4oPids"
      },
      "execution_count": null,
      "outputs": []
    },
    {
      "cell_type": "markdown",
      "source": [
        "### Deep Learning"
      ],
      "metadata": {
        "id": "IAPq1i1aPjYV"
      }
    },
    {
      "cell_type": "code",
      "source": [
        "import tensorflow as tf\n",
        "from tensorflow.keras.models import Sequential\n",
        "from tensorflow.keras.layers import Dense\n",
        "from tensorflow.keras.optimizers import Adam\n",
        "from sklearn.metrics import accuracy_score\n",
        "\n",
        "# Define the neural network architecture\n",
        "model = Sequential([\n",
        "    Dense(64, activation='relu', input_shape=(X_train_scaled.shape[1],)),\n",
        "    Dense(64, activation='relu'),\n",
        "    Dense(1, activation='sigmoid')\n",
        "])\n",
        "\n",
        "# Compile the model\n",
        "model.compile(optimizer=Adam(), loss='binary_crossentropy', metrics=['accuracy'])\n",
        "\n",
        "# Train the model\n",
        "history = model.fit(X_train_scaled, y_train, epochs=50, batch_size=32, validation_split=0.2, verbose=1)\n",
        "\n",
        "# Predict labels for the test set\n",
        "y_pred_dl = model.predict(X_test_scaled)\n",
        "y_pred_dl = [1 if prob > 0.5 else 0 for prob in y_pred_dl.ravel()]\n",
        "\n",
        "# Calculate accuracy\n",
        "accuracy_dl = accuracy_score(y_test, y_pred_dl)\n",
        "print(f'Accuracy of Deep Learning model: {accuracy_dl:.2f}')"
      ],
      "metadata": {
        "id": "6NeD8zG4PmHn"
      },
      "execution_count": null,
      "outputs": []
    },
    {
      "cell_type": "markdown",
      "source": [
        "## Comparison of Model Accuracies"
      ],
      "metadata": {
        "id": "fOsvlqLmP0zX"
      }
    },
    {
      "cell_type": "code",
      "source": [
        "import matplotlib.pyplot as plt\n",
        "\n",
        "\n",
        "accuracies = {\n",
        "    'Random Forest': 0.94,\n",
        "    'Decision Tree': 0.90,\n",
        "    'K-Nearest Neighbors': 0.93,\n",
        "    'Support Vector Machine': 0.93,\n",
        "    'Deep Learning': 0.93\n",
        "}\n",
        "\n",
        "models = list(accuracies.keys())\n",
        "accuracy_scores = list(accuracies.values())\n",
        "\n",
        "\n",
        "plt.figure(figsize=(10, 5))\n",
        "plt.bar(models, accuracy_scores, color=['green', 'blue', 'red', 'purple', 'orange'])\n",
        "plt.xlabel('Machine Learning Models')\n",
        "plt.ylabel('Accuracy')\n",
        "plt.title('Comparison of Model Accuracies')\n",
        "plt.ylim([0.80, 0.95])\n",
        "plt.show()\n"
      ],
      "metadata": {
        "id": "84HyXELIQH5w"
      },
      "execution_count": null,
      "outputs": []
    },
    {
      "cell_type": "markdown",
      "source": [
        "# Homemade New Data 2020~2024"
      ],
      "metadata": {
        "id": "QdtjQUPydcyM"
      }
    },
    {
      "cell_type": "code",
      "source": [
        "# prompt: can you help me read this as data https://huggingface.co/spaces/DEEMOSTECH/Rodin\n",
        "\n",
        "!pip install datasets\n",
        "from datasets import load_dataset\n",
        "\n",
        "dataset = load_dataset('DEEMOSTECH/Rodin')\n",
        "print(dataset)\n"
      ],
      "metadata": {
        "id": "Qw66KFQkTayp"
      },
      "execution_count": null,
      "outputs": []
    },
    {
      "cell_type": "code",
      "source": [
        "import pandas as pd\n",
        "from sklearn.model_selection import train_test_split\n",
        "from sklearn.preprocessing import StandardScaler\n",
        "from sklearn.ensemble import RandomForestClassifier\n",
        "from sklearn.metrics import accuracy_score\n",
        "\n",
        "# Load the original dataset\n",
        "data = pd.read_csv('/content/american_bankruptcy.csv')\n",
        "\n",
        "# Remove 'company_name' column\n",
        "data.drop('company_name', axis=1, inplace=True)\n",
        "\n",
        "# Convert 'status_label' from string to numerical format (0 for 'alive', 1 for 'bankruptcy')\n",
        "data['status_label'] = (data['status_label'] != 'alive').astype(int)\n",
        "\n",
        "# Save the cleaned data if you need to use it later\n",
        "data.to_csv('cleaned_dataset.csv', index=False)\n",
        "\n",
        "# Prepare feature matrix X and target vector y\n",
        "X = data.drop('status_label', axis=1)\n",
        "y = data['status_label']\n",
        "\n",
        "# Split data into training and test sets\n",
        "X_train, X_test, y_train, y_test = train_test_split(X, y, test_size=0.2, random_state=42)\n",
        "\n",
        "# Feature scaling\n",
        "scaler = StandardScaler()\n",
        "X_train_scaled = scaler.fit_transform(X_train)\n",
        "X_test_scaled = scaler.transform(X_test)\n",
        "\n",
        "# Initialize the RandomForestClassifier\n",
        "random_forest = RandomForestClassifier(n_estimators=100, random_state=42)\n",
        "\n",
        "# Train the model\n",
        "random_forest.fit(X_train_scaled, y_train)\n",
        "\n",
        "# Load the new dataset (2020-2023 data)\n",
        "new_data = pd.read_csv('newdataset 2020~2023.csv')\n",
        "\n",
        "# Remove 'company_name' column\n",
        "new_data.drop('company_name', axis=1, inplace=True)\n",
        "\n",
        "# Convert 'status_label' from string to numerical format (0 for 'alive', 1 for 'bankruptcy')\n",
        "new_data['status_label'] = (new_data['status_label'] != 'lived').astype(int)\n",
        "\n",
        "# Convert all columns to numeric, coercing errors to NaN\n",
        "new_data = new_data.apply(pd.to_numeric, errors='coerce')\n",
        "\n",
        "# Drop rows with NaN values (if any)\n",
        "new_data.dropna(inplace=True)\n",
        "\n",
        "# Prepare feature matrix X_new and target vector y_new\n",
        "X_new = new_data.drop('status_label', axis=1)\n",
        "y_new = new_data['status_label']\n",
        "\n",
        "# Feature scaling using the same scaler fitted on the original training data\n",
        "X_new_scaled = scaler.transform(X_new)\n",
        "\n",
        "# Make predictions on the new dataset\n",
        "y_pred_new = random_forest.predict(X_new_scaled)\n",
        "\n",
        "# Calculate accuracy\n",
        "accuracy_new = accuracy_score(y_new, y_pred_new)\n",
        "\n",
        "# Print results\n",
        "print(\"Accuracy on the new dataset (2020-2023):\", accuracy_new)\n",
        "print(\"Predicted values:\", y_pred_new)\n",
        "print(\"Actual values:\", y_new.values)\n"
      ],
      "metadata": {
        "id": "xbytFb8wd0-L"
      },
      "execution_count": null,
      "outputs": []
    }
  ]
}